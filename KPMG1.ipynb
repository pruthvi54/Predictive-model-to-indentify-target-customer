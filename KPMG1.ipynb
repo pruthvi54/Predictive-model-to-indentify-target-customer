{
  "nbformat": 4,
  "nbformat_minor": 0,
  "metadata": {
    "colab": {
      "name": "KPMG1",
      "provenance": [],
      "collapsed_sections": []
    },
    "kernelspec": {
      "name": "python3",
      "display_name": "Python 3"
    }
  },
  "cells": [
    {
      "cell_type": "code",
      "metadata": {
        "id": "1X7eF3oe11wp"
      },
      "source": [
        "import pandas as pd\n",
        "import numpy as np\n",
        "import matplotlib.pyplot as plt\n",
        "import datetime as dt"
      ],
      "execution_count": 5,
      "outputs": []
    },
    {
      "cell_type": "code",
      "metadata": {
        "id": "7zP_n_bs1-kP"
      },
      "source": [
        "url = 'https://github.com/mufeezmomin30/datasciencecoursera/blob/master/KPMG_VI_New_raw_data_update_final.xlsx?raw=true'\n",
        "xls = pd.ExcelFile(url)\n",
        "title = pd.read_excel(xls, 'Title Sheet')\n",
        "old_trans = pd.read_excel(xls, 'Transactions', header = [1], parse_dates=[3])\n",
        "new = pd.read_excel(xls, 'NewCustomerList', header = [1], parse_dates=[4]).drop(['Unnamed: 16', 'Unnamed: 17', 'Unnamed: 18','Unnamed: 19', 'Unnamed: 20'], axis = 1)\n",
        "old_demo = pd.read_excel(xls, 'CustomerDemographic', header = [1], parse_dates=[5])\n",
        "old_add = pd.read_excel(xls, 'CustomerAddress', header = [1])"
      ],
      "execution_count": 6,
      "outputs": []
    },
    {
      "cell_type": "code",
      "metadata": {
        "colab": {
          "base_uri": "https://localhost:8080/"
        },
        "id": "JttGdd8dHtQU",
        "outputId": "0112f793-bab8-4efb-cd41-d4d3a3ea2baf"
      },
      "source": [
        "df['gender'].unique"
      ],
      "execution_count": 7,
      "outputs": [
        {
          "output_type": "execute_result",
          "data": {
            "text/plain": [
              "<bound method Series.unique of 608      F\n",
              "609      F\n",
              "599      F\n",
              "600      F\n",
              "601      F\n",
              "        ..\n",
              "11304    F\n",
              "11307    F\n",
              "11303    F\n",
              "11302    F\n",
              "11306    F\n",
              "Name: gender, Length: 19997, dtype: object>"
            ]
          },
          "metadata": {},
          "execution_count": 7
        }
      ]
    },
    {
      "cell_type": "code",
      "metadata": {
        "id": "mabc3PQA2FMf"
      },
      "source": [
        "df = old_trans.merge(old_demo, left_on = 'customer_id', right_on = 'customer_id', how = 'inner').sort_values(by = 'customer_id')\n",
        "df['gender'] = df['gender'].replace('Female','F')\n",
        "df['gender'] = df['gender'].replace('Male','M')\n",
        "df['gender'] = df['gender'].replace('Femal','F')"
      ],
      "execution_count": 8,
      "outputs": []
    },
    {
      "cell_type": "code",
      "metadata": {
        "id": "f4Mw8GfeHfca"
      },
      "source": [
        ""
      ],
      "execution_count": 8,
      "outputs": []
    },
    {
      "cell_type": "code",
      "metadata": {
        "id": "hgLIsbvj5Pli",
        "colab": {
          "base_uri": "https://localhost:8080/",
          "height": 153
        },
        "outputId": "7154ceab-73dc-4019-d758-f525eacc7c6b"
      },
      "source": [
        "df.columns"
      ],
      "execution_count": null,
      "outputs": [
        {
          "output_type": "execute_result",
          "data": {
            "text/plain": [
              "Index(['transaction_id', 'product_id', 'customer_id', 'transaction_date',\n",
              "       'online_order', 'order_status', 'brand', 'product_line',\n",
              "       'product_class', 'product_size', 'list_price', 'standard_cost',\n",
              "       'product_first_sold_date', 'first_name', 'last_name', 'gender',\n",
              "       'past_3_years_bike_related_purchases', 'DOB', 'job_title',\n",
              "       'job_industry_category', 'wealth_segment', 'deceased_indicator',\n",
              "       'default', 'owns_car', 'tenure'],\n",
              "      dtype='object')"
            ]
          },
          "metadata": {
            "tags": []
          },
          "execution_count": 51
        }
      ]
    },
    {
      "cell_type": "code",
      "metadata": {
        "id": "CvuynfKb2rQo"
      },
      "source": [
        "df1 = df[['customer_id','transaction_date','gender','list_price','past_3_years_bike_related_purchases','DOB','job_title','job_industry_category','wealth_segment','owns_car']]"
      ],
      "execution_count": 9,
      "outputs": []
    },
    {
      "cell_type": "code",
      "metadata": {
        "id": "dRmCRYo52LJQ",
        "colab": {
          "base_uri": "https://localhost:8080/"
        },
        "outputId": "b9ec2d5d-9d52-44fc-ec97-fa6337a4e0b0"
      },
      "source": [
        "df2 = df1.merge(old_add, how = 'inner', on = 'customer_id')\n",
        "df2.columns"
      ],
      "execution_count": 10,
      "outputs": [
        {
          "output_type": "execute_result",
          "data": {
            "text/plain": [
              "Index(['customer_id', 'transaction_date', 'gender', 'list_price',\n",
              "       'past_3_years_bike_related_purchases', 'DOB', 'job_title',\n",
              "       'job_industry_category', 'wealth_segment', 'owns_car', 'address',\n",
              "       'postcode', 'state', 'country', 'property_valuation'],\n",
              "      dtype='object')"
            ]
          },
          "metadata": {},
          "execution_count": 10
        }
      ]
    },
    {
      "cell_type": "markdown",
      "metadata": {
        "id": "l9dSvVyTB8rn"
      },
      "source": [
        "Recency Analysis"
      ]
    },
    {
      "cell_type": "code",
      "metadata": {
        "id": "dCOXvJP66Bcq",
        "colab": {
          "base_uri": "https://localhost:8080/",
          "height": 265
        },
        "outputId": "a03e2ec7-ca9e-4902-b5f6-19ea629f48a2"
      },
      "source": [
        "#create a generic user dataframe to keep CustomerID and new segmentation scores\n",
        "tx_user = pd.DataFrame(df2['customer_id'].unique())\n",
        "tx_user.columns = ['CustomerID']\n",
        "\n",
        "#get the max purchase date for each customer and create a dataframe with it\n",
        "tx_max_purchase = df2.groupby('customer_id').transaction_date.max().reset_index()\n",
        "tx_max_purchase.columns = ['CustomerID','MaxPurchaseDate']\n",
        "\n",
        "#we take our observation point as the max invoice date in our dataset\n",
        "tx_max_purchase['Recency'] = (tx_max_purchase['MaxPurchaseDate'].max() - tx_max_purchase['MaxPurchaseDate']).dt.days\n",
        "\n",
        "#merge this dataframe to our new user dataframe\n",
        "tx_user = pd.merge(tx_user, tx_max_purchase[['CustomerID','Recency']], on='CustomerID')\n",
        "\n",
        "plt.hist(tx_user['Recency'])\n",
        "plt.show()"
      ],
      "execution_count": 11,
      "outputs": [
        {
          "output_type": "display_data",
          "data": {
            "image/png": "[encoded data removed]",
            "text/plain": [
              "<Figure size 432x288 with 1 Axes>"
            ]
          },
          "metadata": {
            "needs_background": "light"
          }
        }
      ]
    },
    {
      "cell_type": "markdown",
      "metadata": {
        "id": "6hmH_cAmEm-h"
      },
      "source": [
        "K-Means clustering for assign recency a score"
      ]
    },
    {
      "cell_type": "code",
      "metadata": {
        "id": "4fuH_qCl8tI8",
        "colab": {
          "base_uri": "https://localhost:8080/",
          "height": 290
        },
        "outputId": "0df63450-97c5-46db-bd67-f6edc933c8f6"
      },
      "source": [
        "#For finding out number of cluster\n",
        "from sklearn.cluster import KMeans\n",
        "\n",
        "sse={}\n",
        "tx_recency = tx_user[['Recency']]\n",
        "for k in range(1, 10):\n",
        "    kmeans = KMeans(n_clusters=k, max_iter=1000).fit(tx_recency)\n",
        "    tx_recency[\"clusters\"] = kmeans.labels_\n",
        "    sse[k] = kmeans.inertia_ \n",
        "plt.figure()\n",
        "plt.plot(list(sse.keys()), list(sse.values()))\n",
        "plt.xlabel(\"Number of cluster\")\n",
        "#plt.show()\n",
        "\n",
        "#Plot shows number of cluster should be 3\n",
        "\n",
        "#build 4 clusters for recency and add it to dataframe\n",
        "kmeans = KMeans(n_clusters=4)\n",
        "kmeans.fit(tx_user[['Recency']])\n",
        "tx_user['RecencyCluster'] = kmeans.predict(tx_user[['Recency']])\n",
        "\n",
        "#function for ordering cluster numbers\n",
        "def order_cluster(cluster_field_name, target_field_name,df,ascending):\n",
        "    new_cluster_field_name = 'new_' + cluster_field_name\n",
        "    df_new = df.groupby(cluster_field_name)[target_field_name].mean().reset_index()\n",
        "    df_new = df_new.sort_values(by=target_field_name,ascending=ascending).reset_index(drop=True)\n",
        "    df_new['index'] = df_new.index\n",
        "    df_final = pd.merge(df,df_new[[cluster_field_name,'index']], on=cluster_field_name)\n",
        "    df_final = df_final.drop([cluster_field_name],axis=1)\n",
        "    df_final = df_final.rename(columns={\"index\":cluster_field_name})\n",
        "    return df_final\n",
        "\n",
        "tx_user = order_cluster('RecencyCluster', 'Recency',tx_user,False)"
      ],
      "execution_count": 12,
      "outputs": [
        {
          "output_type": "display_data",
          "data": {
            "image/png": "[encoded data removed]",
            "text/plain": [
              "<Figure size 432x288 with 1 Axes>"
            ]
          },
          "metadata": {
            "needs_background": "light"
          }
        }
      ]
    },
    {
      "cell_type": "code",
      "metadata": {
        "colab": {
          "base_uri": "https://localhost:8080/",
          "height": 424
        },
        "id": "BhDSDhbxJgGa",
        "outputId": "16a87b00-8cdb-4f79-e3d9-e065d4f2da16"
      },
      "source": [
        "kmeans = KMeans(n_clusters=4)\n",
        "kmeans.fit(tx_user[['Recency']])\n",
        "tx_user['RecencyCluster'] = kmeans.predict(tx_user[['Recency']])\n",
        "tx_user\n"
      ],
      "execution_count": 14,
      "outputs": [
        {
          "output_type": "execute_result",
          "data": {
            "text/html": [
              "<div>\n",
              "<style scoped>\n",
              "    .dataframe tbody tr th:only-of-type {\n",
              "        vertical-align: middle;\n",
              "    }\n",
              "\n",
              "    .dataframe tbody tr th {\n",
              "        vertical-align: top;\n",
              "    }\n",
              "\n",
              "    .dataframe thead th {\n",
              "        text-align: right;\n",
              "    }\n",
              "</style>\n",
              "<table border=\"1\" class=\"dataframe\">\n",
              "  <thead>\n",
              "    <tr style=\"text-align: right;\">\n",
              "      <th></th>\n",
              "      <th>CustomerID</th>\n",
              "      <th>Recency</th>\n",
              "      <th>RecencyCluster</th>\n",
              "    </tr>\n",
              "  </thead>\n",
              "  <tbody>\n",
              "    <tr>\n",
              "      <th>0</th>\n",
              "      <td>1</td>\n",
              "      <td>7</td>\n",
              "      <td>1</td>\n",
              "    </tr>\n",
              "    <tr>\n",
              "      <th>1</th>\n",
              "      <td>5</td>\n",
              "      <td>16</td>\n",
              "      <td>1</td>\n",
              "    </tr>\n",
              "    <tr>\n",
              "      <th>2</th>\n",
              "      <td>8</td>\n",
              "      <td>22</td>\n",
              "      <td>1</td>\n",
              "    </tr>\n",
              "    <tr>\n",
              "      <th>3</th>\n",
              "      <td>13</td>\n",
              "      <td>27</td>\n",
              "      <td>1</td>\n",
              "    </tr>\n",
              "    <tr>\n",
              "      <th>4</th>\n",
              "      <td>15</td>\n",
              "      <td>35</td>\n",
              "      <td>1</td>\n",
              "    </tr>\n",
              "    <tr>\n",
              "      <th>...</th>\n",
              "      <td>...</td>\n",
              "      <td>...</td>\n",
              "      <td>...</td>\n",
              "    </tr>\n",
              "    <tr>\n",
              "      <th>3484</th>\n",
              "      <td>3484</td>\n",
              "      <td>79</td>\n",
              "      <td>3</td>\n",
              "    </tr>\n",
              "    <tr>\n",
              "      <th>3485</th>\n",
              "      <td>3492</td>\n",
              "      <td>80</td>\n",
              "      <td>3</td>\n",
              "    </tr>\n",
              "    <tr>\n",
              "      <th>3486</th>\n",
              "      <td>3493</td>\n",
              "      <td>93</td>\n",
              "      <td>3</td>\n",
              "    </tr>\n",
              "    <tr>\n",
              "      <th>3487</th>\n",
              "      <td>3497</td>\n",
              "      <td>52</td>\n",
              "      <td>3</td>\n",
              "    </tr>\n",
              "    <tr>\n",
              "      <th>3488</th>\n",
              "      <td>3499</td>\n",
              "      <td>51</td>\n",
              "      <td>3</td>\n",
              "    </tr>\n",
              "  </tbody>\n",
              "</table>\n",
              "<p>3489 rows × 3 columns</p>\n",
              "</div>"
            ],
            "text/plain": [
              "      CustomerID  Recency  RecencyCluster\n",
              "0              1        7               1\n",
              "1              5       16               1\n",
              "2              8       22               1\n",
              "3             13       27               1\n",
              "4             15       35               1\n",
              "...          ...      ...             ...\n",
              "3484        3484       79               3\n",
              "3485        3492       80               3\n",
              "3486        3493       93               3\n",
              "3487        3497       52               3\n",
              "3488        3499       51               3\n",
              "\n",
              "[3489 rows x 3 columns]"
            ]
          },
          "metadata": {},
          "execution_count": 14
        }
      ]
    },
    {
      "cell_type": "markdown",
      "metadata": {
        "id": "MpBWngHcDAfC"
      },
      "source": [
        "The results are as follows:<br>\n",
        "(3,1773),    (2,1062),     (1,497),     (0,157)<br>\n",
        "3 covers us a most recent customer while 0 has the most inactive ones<br>\n",
        "Let's calculate frequency now"
      ]
    },
    {
      "cell_type": "code",
      "metadata": {
        "id": "DP7Dus21F76A",
        "colab": {
          "base_uri": "https://localhost:8080/",
          "height": 297
        },
        "outputId": "a5b9aa54-cb8a-448b-ce6f-2ec616cdbdde"
      },
      "source": [
        "#get order counts for each user and create a dataframe with it\n",
        "tx_frequency = df2.groupby('customer_id').transaction_date.count().reset_index()\n",
        "tx_frequency.columns = ['CustomerID','Frequency']\n",
        "\n",
        "#add this data to our main dataframe\n",
        "tx_user = pd.merge(tx_user, tx_frequency, on='CustomerID')\n",
        "tx_user.describe()"
      ],
      "execution_count": null,
      "outputs": [
        {
          "output_type": "execute_result",
          "data": {
            "text/html": [
              "<div>\n",
              "<style scoped>\n",
              "    .dataframe tbody tr th:only-of-type {\n",
              "        vertical-align: middle;\n",
              "    }\n",
              "\n",
              "    .dataframe tbody tr th {\n",
              "        vertical-align: top;\n",
              "    }\n",
              "\n",
              "    .dataframe thead th {\n",
              "        text-align: right;\n",
              "    }\n",
              "</style>\n",
              "<table border=\"1\" class=\"dataframe\">\n",
              "  <thead>\n",
              "    <tr style=\"text-align: right;\">\n",
              "      <th></th>\n",
              "      <th>CustomerID</th>\n",
              "      <th>Recency</th>\n",
              "      <th>RecencyCluster</th>\n",
              "      <th>Frequency</th>\n",
              "    </tr>\n",
              "  </thead>\n",
              "  <tbody>\n",
              "    <tr>\n",
              "      <th>count</th>\n",
              "      <td>3489.000000</td>\n",
              "      <td>3489.000000</td>\n",
              "      <td>3489.000000</td>\n",
              "      <td>3489.000000</td>\n",
              "    </tr>\n",
              "    <tr>\n",
              "      <th>mean</th>\n",
              "      <td>1751.905704</td>\n",
              "      <td>60.807395</td>\n",
              "      <td>2.275724</td>\n",
              "      <td>5.723130</td>\n",
              "    </tr>\n",
              "    <tr>\n",
              "      <th>std</th>\n",
              "      <td>1009.388703</td>\n",
              "      <td>57.811419</td>\n",
              "      <td>0.868794</td>\n",
              "      <td>2.326339</td>\n",
              "    </tr>\n",
              "    <tr>\n",
              "      <th>min</th>\n",
              "      <td>1.000000</td>\n",
              "      <td>0.000000</td>\n",
              "      <td>0.000000</td>\n",
              "      <td>1.000000</td>\n",
              "    </tr>\n",
              "    <tr>\n",
              "      <th>25%</th>\n",
              "      <td>879.000000</td>\n",
              "      <td>17.000000</td>\n",
              "      <td>2.000000</td>\n",
              "      <td>4.000000</td>\n",
              "    </tr>\n",
              "    <tr>\n",
              "      <th>50%</th>\n",
              "      <td>1752.000000</td>\n",
              "      <td>44.000000</td>\n",
              "      <td>3.000000</td>\n",
              "      <td>6.000000</td>\n",
              "    </tr>\n",
              "    <tr>\n",
              "      <th>75%</th>\n",
              "      <td>2625.000000</td>\n",
              "      <td>85.000000</td>\n",
              "      <td>3.000000</td>\n",
              "      <td>7.000000</td>\n",
              "    </tr>\n",
              "    <tr>\n",
              "      <th>max</th>\n",
              "      <td>3500.000000</td>\n",
              "      <td>353.000000</td>\n",
              "      <td>3.000000</td>\n",
              "      <td>14.000000</td>\n",
              "    </tr>\n",
              "  </tbody>\n",
              "</table>\n",
              "</div>"
            ],
            "text/plain": [
              "        CustomerID      Recency  RecencyCluster    Frequency\n",
              "count  3489.000000  3489.000000     3489.000000  3489.000000\n",
              "mean   1751.905704    60.807395        2.275724     5.723130\n",
              "std    1009.388703    57.811419        0.868794     2.326339\n",
              "min       1.000000     0.000000        0.000000     1.000000\n",
              "25%     879.000000    17.000000        2.000000     4.000000\n",
              "50%    1752.000000    44.000000        3.000000     6.000000\n",
              "75%    2625.000000    85.000000        3.000000     7.000000\n",
              "max    3500.000000   353.000000        3.000000    14.000000"
            ]
          },
          "metadata": {
            "tags": []
          },
          "execution_count": 56
        }
      ]
    },
    {
      "cell_type": "code",
      "metadata": {
        "id": "COzSgs6EGs6c",
        "colab": {
          "base_uri": "https://localhost:8080/",
          "height": 204
        },
        "outputId": "6e81533f-2769-4fed-93f7-37d915ce9609"
      },
      "source": [
        "#k-means\n",
        "kmeans = KMeans(n_clusters=4)\n",
        "kmeans.fit(tx_user[['Frequency']])\n",
        "tx_user['FrequencyCluster'] = kmeans.predict(tx_user[['Frequency']])\n",
        "\n",
        "#order the frequency cluster\n",
        "tx_user = order_cluster('FrequencyCluster', 'Frequency',tx_user,True)\n",
        "\n",
        "#see details of each cluster\n",
        "tx_user.groupby('FrequencyCluster')['Frequency'].describe()"
      ],
      "execution_count": null,
      "outputs": [
        {
          "output_type": "execute_result",
          "data": {
            "text/html": [
              "<div>\n",
              "<style scoped>\n",
              "    .dataframe tbody tr th:only-of-type {\n",
              "        vertical-align: middle;\n",
              "    }\n",
              "\n",
              "    .dataframe tbody tr th {\n",
              "        vertical-align: top;\n",
              "    }\n",
              "\n",
              "    .dataframe thead th {\n",
              "        text-align: right;\n",
              "    }\n",
              "</style>\n",
              "<table border=\"1\" class=\"dataframe\">\n",
              "  <thead>\n",
              "    <tr style=\"text-align: right;\">\n",
              "      <th></th>\n",
              "      <th>count</th>\n",
              "      <th>mean</th>\n",
              "      <th>std</th>\n",
              "      <th>min</th>\n",
              "      <th>25%</th>\n",
              "      <th>50%</th>\n",
              "      <th>75%</th>\n",
              "      <th>max</th>\n",
              "    </tr>\n",
              "    <tr>\n",
              "      <th>FrequencyCluster</th>\n",
              "      <th></th>\n",
              "      <th></th>\n",
              "      <th></th>\n",
              "      <th></th>\n",
              "      <th></th>\n",
              "      <th></th>\n",
              "      <th></th>\n",
              "      <th></th>\n",
              "    </tr>\n",
              "  </thead>\n",
              "  <tbody>\n",
              "    <tr>\n",
              "      <th>0</th>\n",
              "      <td>1110.0</td>\n",
              "      <td>3.179279</td>\n",
              "      <td>0.881287</td>\n",
              "      <td>1.0</td>\n",
              "      <td>3.0</td>\n",
              "      <td>3.0</td>\n",
              "      <td>4.00</td>\n",
              "      <td>4.0</td>\n",
              "    </tr>\n",
              "    <tr>\n",
              "      <th>1</th>\n",
              "      <td>1169.0</td>\n",
              "      <td>5.485885</td>\n",
              "      <td>0.500015</td>\n",
              "      <td>5.0</td>\n",
              "      <td>5.0</td>\n",
              "      <td>5.0</td>\n",
              "      <td>6.00</td>\n",
              "      <td>6.0</td>\n",
              "    </tr>\n",
              "    <tr>\n",
              "      <th>2</th>\n",
              "      <td>784.0</td>\n",
              "      <td>7.394133</td>\n",
              "      <td>0.488976</td>\n",
              "      <td>7.0</td>\n",
              "      <td>7.0</td>\n",
              "      <td>7.0</td>\n",
              "      <td>8.00</td>\n",
              "      <td>8.0</td>\n",
              "    </tr>\n",
              "    <tr>\n",
              "      <th>3</th>\n",
              "      <td>426.0</td>\n",
              "      <td>9.927230</td>\n",
              "      <td>1.156815</td>\n",
              "      <td>9.0</td>\n",
              "      <td>9.0</td>\n",
              "      <td>10.0</td>\n",
              "      <td>10.75</td>\n",
              "      <td>14.0</td>\n",
              "    </tr>\n",
              "  </tbody>\n",
              "</table>\n",
              "</div>"
            ],
            "text/plain": [
              "                   count      mean       std  min  25%   50%    75%   max\n",
              "FrequencyCluster                                                         \n",
              "0                 1110.0  3.179279  0.881287  1.0  3.0   3.0   4.00   4.0\n",
              "1                 1169.0  5.485885  0.500015  5.0  5.0   5.0   6.00   6.0\n",
              "2                  784.0  7.394133  0.488976  7.0  7.0   7.0   8.00   8.0\n",
              "3                  426.0  9.927230  1.156815  9.0  9.0  10.0  10.75  14.0"
            ]
          },
          "metadata": {
            "tags": []
          },
          "execution_count": 57
        }
      ]
    },
    {
      "cell_type": "markdown",
      "metadata": {
        "id": "We5eUqzxIZ3n"
      },
      "source": [
        "Here 3 indicates better customers and 0 the worst customers w.r.t frequency.<br>\n",
        "(0,1110),     (1,1169),      (2,991),      (3,219)    <br>\n",
        "Hence, let's move to calculating moentary value of each customers\n"
      ]
    },
    {
      "cell_type": "code",
      "metadata": {
        "id": "K4astlrfIEim",
        "colab": {
          "base_uri": "https://localhost:8080/",
          "height": 204
        },
        "outputId": "11386b2b-f762-4e59-d160-2cc77af16047"
      },
      "source": [
        "#calculate revenue for each customer\n",
        "tx_revenue = df2.groupby('customer_id').list_price.sum().reset_index()\n",
        "tx_user.head()\n",
        "#merge it with our main dataframe\n",
        "tx_user = pd.merge(tx_user, tx_revenue, right_on='customer_id', left_on = 'CustomerID')\n",
        "tx_user.head()\n"
      ],
      "execution_count": null,
      "outputs": [
        {
          "output_type": "execute_result",
          "data": {
            "text/html": [
              "<div>\n",
              "<style scoped>\n",
              "    .dataframe tbody tr th:only-of-type {\n",
              "        vertical-align: middle;\n",
              "    }\n",
              "\n",
              "    .dataframe tbody tr th {\n",
              "        vertical-align: top;\n",
              "    }\n",
              "\n",
              "    .dataframe thead th {\n",
              "        text-align: right;\n",
              "    }\n",
              "</style>\n",
              "<table border=\"1\" class=\"dataframe\">\n",
              "  <thead>\n",
              "    <tr style=\"text-align: right;\">\n",
              "      <th></th>\n",
              "      <th>CustomerID</th>\n",
              "      <th>Recency</th>\n",
              "      <th>RecencyCluster</th>\n",
              "      <th>Frequency</th>\n",
              "      <th>FrequencyCluster</th>\n",
              "      <th>customer_id</th>\n",
              "      <th>list_price</th>\n",
              "    </tr>\n",
              "  </thead>\n",
              "  <tbody>\n",
              "    <tr>\n",
              "      <th>0</th>\n",
              "      <td>1</td>\n",
              "      <td>7</td>\n",
              "      <td>3</td>\n",
              "      <td>11</td>\n",
              "      <td>3</td>\n",
              "      <td>1</td>\n",
              "      <td>9084.45</td>\n",
              "    </tr>\n",
              "    <tr>\n",
              "      <th>1</th>\n",
              "      <td>8</td>\n",
              "      <td>22</td>\n",
              "      <td>3</td>\n",
              "      <td>10</td>\n",
              "      <td>3</td>\n",
              "      <td>8</td>\n",
              "      <td>12024.76</td>\n",
              "    </tr>\n",
              "    <tr>\n",
              "      <th>2</th>\n",
              "      <td>25</td>\n",
              "      <td>5</td>\n",
              "      <td>3</td>\n",
              "      <td>12</td>\n",
              "      <td>3</td>\n",
              "      <td>25</td>\n",
              "      <td>9996.33</td>\n",
              "    </tr>\n",
              "    <tr>\n",
              "      <th>3</th>\n",
              "      <td>29</td>\n",
              "      <td>22</td>\n",
              "      <td>3</td>\n",
              "      <td>9</td>\n",
              "      <td>3</td>\n",
              "      <td>29</td>\n",
              "      <td>10855.57</td>\n",
              "    </tr>\n",
              "    <tr>\n",
              "      <th>4</th>\n",
              "      <td>37</td>\n",
              "      <td>7</td>\n",
              "      <td>3</td>\n",
              "      <td>9</td>\n",
              "      <td>3</td>\n",
              "      <td>37</td>\n",
              "      <td>11291.71</td>\n",
              "    </tr>\n",
              "  </tbody>\n",
              "</table>\n",
              "</div>"
            ],
            "text/plain": [
              "   CustomerID  Recency  ...  customer_id  list_price\n",
              "0           1        7  ...            1     9084.45\n",
              "1           8       22  ...            8    12024.76\n",
              "2          25        5  ...           25     9996.33\n",
              "3          29       22  ...           29    10855.57\n",
              "4          37        7  ...           37    11291.71\n",
              "\n",
              "[5 rows x 7 columns]"
            ]
          },
          "metadata": {
            "tags": []
          },
          "execution_count": 58
        }
      ]
    },
    {
      "cell_type": "code",
      "metadata": {
        "id": "hj-JUuBZKeZI",
        "colab": {
          "base_uri": "https://localhost:8080/",
          "height": 204
        },
        "outputId": "5c367b99-9e82-4420-c5b5-fb0e3bafd3d7"
      },
      "source": [
        "#apply clustering\n",
        "kmeans = KMeans(n_clusters=4)\n",
        "kmeans.fit(tx_user[['list_price']])\n",
        "tx_user['RevenueCluster'] = kmeans.predict(tx_user[['list_price']])\n",
        "\n",
        "\n",
        "#order the cluster numbers\n",
        "tx_user = order_cluster('RevenueCluster', 'list_price',tx_user,True)\n",
        "\n",
        "#show details of the dataframe\n",
        "tx_user.groupby('RevenueCluster')['list_price'].describe()"
      ],
      "execution_count": null,
      "outputs": [
        {
          "output_type": "execute_result",
          "data": {
            "text/html": [
              "<div>\n",
              "<style scoped>\n",
              "    .dataframe tbody tr th:only-of-type {\n",
              "        vertical-align: middle;\n",
              "    }\n",
              "\n",
              "    .dataframe tbody tr th {\n",
              "        vertical-align: top;\n",
              "    }\n",
              "\n",
              "    .dataframe thead th {\n",
              "        text-align: right;\n",
              "    }\n",
              "</style>\n",
              "<table border=\"1\" class=\"dataframe\">\n",
              "  <thead>\n",
              "    <tr style=\"text-align: right;\">\n",
              "      <th></th>\n",
              "      <th>count</th>\n",
              "      <th>mean</th>\n",
              "      <th>std</th>\n",
              "      <th>min</th>\n",
              "      <th>25%</th>\n",
              "      <th>50%</th>\n",
              "      <th>75%</th>\n",
              "      <th>max</th>\n",
              "    </tr>\n",
              "    <tr>\n",
              "      <th>RevenueCluster</th>\n",
              "      <th></th>\n",
              "      <th></th>\n",
              "      <th></th>\n",
              "      <th></th>\n",
              "      <th></th>\n",
              "      <th></th>\n",
              "      <th></th>\n",
              "      <th></th>\n",
              "    </tr>\n",
              "  </thead>\n",
              "  <tbody>\n",
              "    <tr>\n",
              "      <th>0</th>\n",
              "      <td>930.0</td>\n",
              "      <td>2951.642000</td>\n",
              "      <td>1019.765089</td>\n",
              "      <td>60.34</td>\n",
              "      <td>2285.2625</td>\n",
              "      <td>3157.495</td>\n",
              "      <td>3811.8225</td>\n",
              "      <td>4327.44</td>\n",
              "    </tr>\n",
              "    <tr>\n",
              "      <th>1</th>\n",
              "      <td>1313.0</td>\n",
              "      <td>5707.486253</td>\n",
              "      <td>792.882009</td>\n",
              "      <td>4335.00</td>\n",
              "      <td>5025.9500</td>\n",
              "      <td>5698.140</td>\n",
              "      <td>6354.3000</td>\n",
              "      <td>7139.17</td>\n",
              "    </tr>\n",
              "    <tr>\n",
              "      <th>2</th>\n",
              "      <td>910.0</td>\n",
              "      <td>8555.258736</td>\n",
              "      <td>902.634946</td>\n",
              "      <td>7143.39</td>\n",
              "      <td>7775.7000</td>\n",
              "      <td>8454.320</td>\n",
              "      <td>9253.8750</td>\n",
              "      <td>10378.00</td>\n",
              "    </tr>\n",
              "    <tr>\n",
              "      <th>3</th>\n",
              "      <td>336.0</td>\n",
              "      <td>12190.205833</td>\n",
              "      <td>1579.734607</td>\n",
              "      <td>10388.83</td>\n",
              "      <td>10950.1275</td>\n",
              "      <td>11818.950</td>\n",
              "      <td>12925.4650</td>\n",
              "      <td>19071.32</td>\n",
              "    </tr>\n",
              "  </tbody>\n",
              "</table>\n",
              "</div>"
            ],
            "text/plain": [
              "                 count          mean  ...         75%       max\n",
              "RevenueCluster                        ...                      \n",
              "0                930.0   2951.642000  ...   3811.8225   4327.44\n",
              "1               1313.0   5707.486253  ...   6354.3000   7139.17\n",
              "2                910.0   8555.258736  ...   9253.8750  10378.00\n",
              "3                336.0  12190.205833  ...  12925.4650  19071.32\n",
              "\n",
              "[4 rows x 8 columns]"
            ]
          },
          "metadata": {
            "tags": []
          },
          "execution_count": 59
        }
      ]
    },
    {
      "cell_type": "code",
      "metadata": {
        "id": "CF1UrrnEKMr0"
      },
      "source": [
        "tx_user.columns\n",
        "tx_user.columns = ['CustomerID', 'Recency', 'RecencyCluster', 'Frequency','FrequencyCluster', 'customer_id', 'Revenue', 'RevenueCluster']"
      ],
      "execution_count": null,
      "outputs": []
    },
    {
      "cell_type": "code",
      "metadata": {
        "id": "MeAJNohC6fp4",
        "colab": {
          "base_uri": "https://localhost:8080/",
          "height": 444
        },
        "outputId": "052f1c0b-c86f-4eff-f19a-45f547ac4e4a"
      },
      "source": [
        "tx_user['OverallScore'] = tx_user['RecencyCluster'] + tx_user['FrequencyCluster'] + tx_user['RevenueCluster']\n",
        "tx_user.groupby('OverallScore')['Recency','Frequency','Revenue'].mean()"
      ],
      "execution_count": null,
      "outputs": [
        {
          "output_type": "stream",
          "text": [
            "/usr/local/lib/python3.6/dist-packages/ipykernel_launcher.py:2: FutureWarning: Indexing with multiple keys (implicitly converted to a tuple of keys) will be deprecated, use a list instead.\n",
            "  \n"
          ],
          "name": "stderr"
        },
        {
          "output_type": "execute_result",
          "data": {
            "text/html": [
              "<div>\n",
              "<style scoped>\n",
              "    .dataframe tbody tr th:only-of-type {\n",
              "        vertical-align: middle;\n",
              "    }\n",
              "\n",
              "    .dataframe tbody tr th {\n",
              "        vertical-align: top;\n",
              "    }\n",
              "\n",
              "    .dataframe thead th {\n",
              "        text-align: right;\n",
              "    }\n",
              "</style>\n",
              "<table border=\"1\" class=\"dataframe\">\n",
              "  <thead>\n",
              "    <tr style=\"text-align: right;\">\n",
              "      <th></th>\n",
              "      <th>Recency</th>\n",
              "      <th>Frequency</th>\n",
              "      <th>Revenue</th>\n",
              "    </tr>\n",
              "    <tr>\n",
              "      <th>OverallScore</th>\n",
              "      <th></th>\n",
              "      <th></th>\n",
              "      <th></th>\n",
              "    </tr>\n",
              "  </thead>\n",
              "  <tbody>\n",
              "    <tr>\n",
              "      <th>0</th>\n",
              "      <td>241.592233</td>\n",
              "      <td>2.271845</td>\n",
              "      <td>2230.762913</td>\n",
              "    </tr>\n",
              "    <tr>\n",
              "      <th>1</th>\n",
              "      <td>151.645933</td>\n",
              "      <td>2.861244</td>\n",
              "      <td>2943.079665</td>\n",
              "    </tr>\n",
              "    <tr>\n",
              "      <th>2</th>\n",
              "      <td>95.047198</td>\n",
              "      <td>3.451327</td>\n",
              "      <td>3598.537729</td>\n",
              "    </tr>\n",
              "    <tr>\n",
              "      <th>3</th>\n",
              "      <td>62.684512</td>\n",
              "      <td>3.965583</td>\n",
              "      <td>4183.382371</td>\n",
              "    </tr>\n",
              "    <tr>\n",
              "      <th>4</th>\n",
              "      <td>55.844860</td>\n",
              "      <td>5.100935</td>\n",
              "      <td>5525.945832</td>\n",
              "    </tr>\n",
              "    <tr>\n",
              "      <th>5</th>\n",
              "      <td>39.595070</td>\n",
              "      <td>5.838028</td>\n",
              "      <td>6331.751972</td>\n",
              "    </tr>\n",
              "    <tr>\n",
              "      <th>6</th>\n",
              "      <td>40.426573</td>\n",
              "      <td>6.911422</td>\n",
              "      <td>7778.144103</td>\n",
              "    </tr>\n",
              "    <tr>\n",
              "      <th>7</th>\n",
              "      <td>29.758904</td>\n",
              "      <td>7.764384</td>\n",
              "      <td>8785.955315</td>\n",
              "    </tr>\n",
              "    <tr>\n",
              "      <th>8</th>\n",
              "      <td>28.463203</td>\n",
              "      <td>9.173160</td>\n",
              "      <td>10467.215411</td>\n",
              "    </tr>\n",
              "    <tr>\n",
              "      <th>9</th>\n",
              "      <td>18.326203</td>\n",
              "      <td>10.315508</td>\n",
              "      <td>12583.022513</td>\n",
              "    </tr>\n",
              "  </tbody>\n",
              "</table>\n",
              "</div>"
            ],
            "text/plain": [
              "                 Recency  Frequency       Revenue\n",
              "OverallScore                                     \n",
              "0             241.592233   2.271845   2230.762913\n",
              "1             151.645933   2.861244   2943.079665\n",
              "2              95.047198   3.451327   3598.537729\n",
              "3              62.684512   3.965583   4183.382371\n",
              "4              55.844860   5.100935   5525.945832\n",
              "5              39.595070   5.838028   6331.751972\n",
              "6              40.426573   6.911422   7778.144103\n",
              "7              29.758904   7.764384   8785.955315\n",
              "8              28.463203   9.173160  10467.215411\n",
              "9              18.326203  10.315508  12583.022513"
            ]
          },
          "metadata": {
            "tags": []
          },
          "execution_count": 61
        }
      ]
    },
    {
      "cell_type": "code",
      "metadata": {
        "id": "aqvwHsyb61EV"
      },
      "source": [
        "tx_user['Segment'] = 'Low-Value'\n",
        "tx_user.loc[tx_user['OverallScore']>2,'Segment'] = 'Mid-Value' \n",
        "tx_user.loc[tx_user['OverallScore']>4,'Segment'] = 'High-Value' "
      ],
      "execution_count": null,
      "outputs": []
    },
    {
      "cell_type": "code",
      "metadata": {
        "id": "hIyH4Nu07tDq"
      },
      "source": [
        "tx_user.to_csv('RFM_final')"
      ],
      "execution_count": null,
      "outputs": []
    },
    {
      "cell_type": "code",
      "metadata": {
        "id": "mITZdY8v72L0",
        "colab": {
          "base_uri": "https://localhost:8080/",
          "height": 34
        },
        "outputId": "2ec91450-d500-423d-ae43-5387cacff704"
      },
      "source": [
        "df4 = tx_user.merge(df2, left_on = 'CustomerID', right_on = 'customer_id', how = 'inner')\n",
        "df4.shape"
      ],
      "execution_count": null,
      "outputs": [
        {
          "output_type": "execute_result",
          "data": {
            "text/plain": [
              "(19968, 25)"
            ]
          },
          "metadata": {
            "tags": []
          },
          "execution_count": 64
        }
      ]
    },
    {
      "cell_type": "code",
      "metadata": {
        "id": "zByWnr__9V8T",
        "colab": {
          "base_uri": "https://localhost:8080/",
          "height": 394
        },
        "outputId": "e2a1ab60-40b6-45b2-9a89-17d1bc5b8b3c"
      },
      "source": [
        "df4.head()"
      ],
      "execution_count": null,
      "outputs": [
        {
          "output_type": "execute_result",
          "data": {
            "text/html": [
              "<div>\n",
              "<style scoped>\n",
              "    .dataframe tbody tr th:only-of-type {\n",
              "        vertical-align: middle;\n",
              "    }\n",
              "\n",
              "    .dataframe tbody tr th {\n",
              "        vertical-align: top;\n",
              "    }\n",
              "\n",
              "    .dataframe thead th {\n",
              "        text-align: right;\n",
              "    }\n",
              "</style>\n",
              "<table border=\"1\" class=\"dataframe\">\n",
              "  <thead>\n",
              "    <tr style=\"text-align: right;\">\n",
              "      <th></th>\n",
              "      <th>CustomerID</th>\n",
              "      <th>Recency</th>\n",
              "      <th>RecencyCluster</th>\n",
              "      <th>Frequency</th>\n",
              "      <th>FrequencyCluster</th>\n",
              "      <th>customer_id_x</th>\n",
              "      <th>Revenue</th>\n",
              "      <th>RevenueCluster</th>\n",
              "      <th>OverallScore</th>\n",
              "      <th>Segment</th>\n",
              "      <th>customer_id_y</th>\n",
              "      <th>transaction_date</th>\n",
              "      <th>gender</th>\n",
              "      <th>list_price</th>\n",
              "      <th>past_3_years_bike_related_purchases</th>\n",
              "      <th>DOB</th>\n",
              "      <th>job_title</th>\n",
              "      <th>job_industry_category</th>\n",
              "      <th>wealth_segment</th>\n",
              "      <th>owns_car</th>\n",
              "      <th>address</th>\n",
              "      <th>postcode</th>\n",
              "      <th>state</th>\n",
              "      <th>country</th>\n",
              "      <th>property_valuation</th>\n",
              "    </tr>\n",
              "  </thead>\n",
              "  <tbody>\n",
              "    <tr>\n",
              "      <th>0</th>\n",
              "      <td>1</td>\n",
              "      <td>7</td>\n",
              "      <td>3</td>\n",
              "      <td>11</td>\n",
              "      <td>3</td>\n",
              "      <td>1</td>\n",
              "      <td>9084.45</td>\n",
              "      <td>2</td>\n",
              "      <td>8</td>\n",
              "      <td>High-Value</td>\n",
              "      <td>1</td>\n",
              "      <td>2017-12-09</td>\n",
              "      <td>F</td>\n",
              "      <td>742.54</td>\n",
              "      <td>93</td>\n",
              "      <td>1953-10-12</td>\n",
              "      <td>Executive Secretary</td>\n",
              "      <td>Health</td>\n",
              "      <td>Mass Customer</td>\n",
              "      <td>Yes</td>\n",
              "      <td>060 Morning Avenue</td>\n",
              "      <td>2016</td>\n",
              "      <td>New South Wales</td>\n",
              "      <td>Australia</td>\n",
              "      <td>10</td>\n",
              "    </tr>\n",
              "    <tr>\n",
              "      <th>1</th>\n",
              "      <td>1</td>\n",
              "      <td>7</td>\n",
              "      <td>3</td>\n",
              "      <td>11</td>\n",
              "      <td>3</td>\n",
              "      <td>1</td>\n",
              "      <td>9084.45</td>\n",
              "      <td>2</td>\n",
              "      <td>8</td>\n",
              "      <td>High-Value</td>\n",
              "      <td>1</td>\n",
              "      <td>2017-03-29</td>\n",
              "      <td>F</td>\n",
              "      <td>1274.93</td>\n",
              "      <td>93</td>\n",
              "      <td>1953-10-12</td>\n",
              "      <td>Executive Secretary</td>\n",
              "      <td>Health</td>\n",
              "      <td>Mass Customer</td>\n",
              "      <td>Yes</td>\n",
              "      <td>060 Morning Avenue</td>\n",
              "      <td>2016</td>\n",
              "      <td>New South Wales</td>\n",
              "      <td>Australia</td>\n",
              "      <td>10</td>\n",
              "    </tr>\n",
              "    <tr>\n",
              "      <th>2</th>\n",
              "      <td>1</td>\n",
              "      <td>7</td>\n",
              "      <td>3</td>\n",
              "      <td>11</td>\n",
              "      <td>3</td>\n",
              "      <td>1</td>\n",
              "      <td>9084.45</td>\n",
              "      <td>2</td>\n",
              "      <td>8</td>\n",
              "      <td>High-Value</td>\n",
              "      <td>1</td>\n",
              "      <td>2017-12-23</td>\n",
              "      <td>F</td>\n",
              "      <td>235.63</td>\n",
              "      <td>93</td>\n",
              "      <td>1953-10-12</td>\n",
              "      <td>Executive Secretary</td>\n",
              "      <td>Health</td>\n",
              "      <td>Mass Customer</td>\n",
              "      <td>Yes</td>\n",
              "      <td>060 Morning Avenue</td>\n",
              "      <td>2016</td>\n",
              "      <td>New South Wales</td>\n",
              "      <td>Australia</td>\n",
              "      <td>10</td>\n",
              "    </tr>\n",
              "    <tr>\n",
              "      <th>3</th>\n",
              "      <td>1</td>\n",
              "      <td>7</td>\n",
              "      <td>3</td>\n",
              "      <td>11</td>\n",
              "      <td>3</td>\n",
              "      <td>1</td>\n",
              "      <td>9084.45</td>\n",
              "      <td>2</td>\n",
              "      <td>8</td>\n",
              "      <td>High-Value</td>\n",
              "      <td>1</td>\n",
              "      <td>2017-04-06</td>\n",
              "      <td>F</td>\n",
              "      <td>1577.53</td>\n",
              "      <td>93</td>\n",
              "      <td>1953-10-12</td>\n",
              "      <td>Executive Secretary</td>\n",
              "      <td>Health</td>\n",
              "      <td>Mass Customer</td>\n",
              "      <td>Yes</td>\n",
              "      <td>060 Morning Avenue</td>\n",
              "      <td>2016</td>\n",
              "      <td>New South Wales</td>\n",
              "      <td>Australia</td>\n",
              "      <td>10</td>\n",
              "    </tr>\n",
              "    <tr>\n",
              "      <th>4</th>\n",
              "      <td>1</td>\n",
              "      <td>7</td>\n",
              "      <td>3</td>\n",
              "      <td>11</td>\n",
              "      <td>3</td>\n",
              "      <td>1</td>\n",
              "      <td>9084.45</td>\n",
              "      <td>2</td>\n",
              "      <td>8</td>\n",
              "      <td>High-Value</td>\n",
              "      <td>1</td>\n",
              "      <td>2017-05-11</td>\n",
              "      <td>F</td>\n",
              "      <td>1720.70</td>\n",
              "      <td>93</td>\n",
              "      <td>1953-10-12</td>\n",
              "      <td>Executive Secretary</td>\n",
              "      <td>Health</td>\n",
              "      <td>Mass Customer</td>\n",
              "      <td>Yes</td>\n",
              "      <td>060 Morning Avenue</td>\n",
              "      <td>2016</td>\n",
              "      <td>New South Wales</td>\n",
              "      <td>Australia</td>\n",
              "      <td>10</td>\n",
              "    </tr>\n",
              "  </tbody>\n",
              "</table>\n",
              "</div>"
            ],
            "text/plain": [
              "   CustomerID  Recency  ...    country  property_valuation\n",
              "0           1        7  ...  Australia                  10\n",
              "1           1        7  ...  Australia                  10\n",
              "2           1        7  ...  Australia                  10\n",
              "3           1        7  ...  Australia                  10\n",
              "4           1        7  ...  Australia                  10\n",
              "\n",
              "[5 rows x 25 columns]"
            ]
          },
          "metadata": {
            "tags": []
          },
          "execution_count": 65
        }
      ]
    },
    {
      "cell_type": "code",
      "metadata": {
        "id": "Yi6ET00k9ez2"
      },
      "source": [
        "df4.to_csv('demoRFM.csv')"
      ],
      "execution_count": null,
      "outputs": []
    },
    {
      "cell_type": "code",
      "metadata": {
        "id": "go7FJEhf9n1x"
      },
      "source": [
        "df5 = df[['customer_id','transaction_date','gender','list_price','standard_cost']]"
      ],
      "execution_count": null,
      "outputs": []
    },
    {
      "cell_type": "code",
      "metadata": {
        "id": "JCe9Y6m5lbm1",
        "colab": {
          "base_uri": "https://localhost:8080/",
          "height": 306
        },
        "outputId": "ee0f85f6-52f1-4de7-c92e-4b01e80698c5"
      },
      "source": [
        "df5['profit'] = df5['list_price'] - df5['standard_cost']\n",
        "#calculate revenue for each customer\n",
        "tx_profit = df5.groupby('customer_id').profit.sum().reset_index()\n",
        "#merge it with our main dataframe\n",
        "tx_user1 = pd.merge(tx_user, tx_profit, right_on='customer_id', left_on = 'CustomerID')\n",
        "tx_user1.head()"
      ],
      "execution_count": null,
      "outputs": [
        {
          "output_type": "stream",
          "text": [
            "/usr/local/lib/python3.6/dist-packages/ipykernel_launcher.py:1: SettingWithCopyWarning: \n",
            "A value is trying to be set on a copy of a slice from a DataFrame.\n",
            "Try using .loc[row_indexer,col_indexer] = value instead\n",
            "\n",
            "See the caveats in the documentation: https://pandas.pydata.org/pandas-docs/stable/user_guide/indexing.html#returning-a-view-versus-a-copy\n",
            "  \"\"\"Entry point for launching an IPython kernel.\n"
          ],
          "name": "stderr"
        },
        {
          "output_type": "execute_result",
          "data": {
            "text/html": [
              "<div>\n",
              "<style scoped>\n",
              "    .dataframe tbody tr th:only-of-type {\n",
              "        vertical-align: middle;\n",
              "    }\n",
              "\n",
              "    .dataframe tbody tr th {\n",
              "        vertical-align: top;\n",
              "    }\n",
              "\n",
              "    .dataframe thead th {\n",
              "        text-align: right;\n",
              "    }\n",
              "</style>\n",
              "<table border=\"1\" class=\"dataframe\">\n",
              "  <thead>\n",
              "    <tr style=\"text-align: right;\">\n",
              "      <th></th>\n",
              "      <th>CustomerID</th>\n",
              "      <th>Recency</th>\n",
              "      <th>RecencyCluster</th>\n",
              "      <th>Frequency</th>\n",
              "      <th>FrequencyCluster</th>\n",
              "      <th>customer_id_x</th>\n",
              "      <th>Revenue</th>\n",
              "      <th>RevenueCluster</th>\n",
              "      <th>OverallScore</th>\n",
              "      <th>Segment</th>\n",
              "      <th>customer_id_y</th>\n",
              "      <th>profit</th>\n",
              "    </tr>\n",
              "  </thead>\n",
              "  <tbody>\n",
              "    <tr>\n",
              "      <th>0</th>\n",
              "      <td>1</td>\n",
              "      <td>7</td>\n",
              "      <td>3</td>\n",
              "      <td>11</td>\n",
              "      <td>3</td>\n",
              "      <td>1</td>\n",
              "      <td>9084.45</td>\n",
              "      <td>2</td>\n",
              "      <td>8</td>\n",
              "      <td>High-Value</td>\n",
              "      <td>1</td>\n",
              "      <td>3018.09</td>\n",
              "    </tr>\n",
              "    <tr>\n",
              "      <th>1</th>\n",
              "      <td>25</td>\n",
              "      <td>5</td>\n",
              "      <td>3</td>\n",
              "      <td>12</td>\n",
              "      <td>3</td>\n",
              "      <td>25</td>\n",
              "      <td>9996.33</td>\n",
              "      <td>2</td>\n",
              "      <td>8</td>\n",
              "      <td>High-Value</td>\n",
              "      <td>25</td>\n",
              "      <td>5333.66</td>\n",
              "    </tr>\n",
              "    <tr>\n",
              "      <th>2</th>\n",
              "      <td>41</td>\n",
              "      <td>29</td>\n",
              "      <td>3</td>\n",
              "      <td>9</td>\n",
              "      <td>3</td>\n",
              "      <td>41</td>\n",
              "      <td>9114.15</td>\n",
              "      <td>2</td>\n",
              "      <td>8</td>\n",
              "      <td>High-Value</td>\n",
              "      <td>41</td>\n",
              "      <td>4698.89</td>\n",
              "    </tr>\n",
              "    <tr>\n",
              "      <th>3</th>\n",
              "      <td>86</td>\n",
              "      <td>0</td>\n",
              "      <td>3</td>\n",
              "      <td>9</td>\n",
              "      <td>3</td>\n",
              "      <td>86</td>\n",
              "      <td>7319.35</td>\n",
              "      <td>2</td>\n",
              "      <td>8</td>\n",
              "      <td>High-Value</td>\n",
              "      <td>86</td>\n",
              "      <td>2360.09</td>\n",
              "    </tr>\n",
              "    <tr>\n",
              "      <th>4</th>\n",
              "      <td>87</td>\n",
              "      <td>18</td>\n",
              "      <td>3</td>\n",
              "      <td>9</td>\n",
              "      <td>3</td>\n",
              "      <td>87</td>\n",
              "      <td>7994.73</td>\n",
              "      <td>2</td>\n",
              "      <td>8</td>\n",
              "      <td>High-Value</td>\n",
              "      <td>87</td>\n",
              "      <td>3740.76</td>\n",
              "    </tr>\n",
              "  </tbody>\n",
              "</table>\n",
              "</div>"
            ],
            "text/plain": [
              "   CustomerID  Recency  RecencyCluster  ...     Segment  customer_id_y   profit\n",
              "0           1        7               3  ...  High-Value              1  3018.09\n",
              "1          25        5               3  ...  High-Value             25  5333.66\n",
              "2          41       29               3  ...  High-Value             41  4698.89\n",
              "3          86        0               3  ...  High-Value             86  2360.09\n",
              "4          87       18               3  ...  High-Value             87  3740.76\n",
              "\n",
              "[5 rows x 12 columns]"
            ]
          },
          "metadata": {
            "tags": []
          },
          "execution_count": 68
        }
      ]
    },
    {
      "cell_type": "code",
      "metadata": {
        "id": "a2VLrtOrmL12"
      },
      "source": [
        "tx_user1.to_csv('profit.csv')"
      ],
      "execution_count": null,
      "outputs": []
    },
    {
      "cell_type": "code",
      "metadata": {
        "id": "_sQbrYNnnIWr",
        "colab": {
          "base_uri": "https://localhost:8080/",
          "height": 153
        },
        "outputId": "bc324cbe-1cd5-4a03-d0c9-cd7abe3fc899"
      },
      "source": [
        "df.columns"
      ],
      "execution_count": null,
      "outputs": [
        {
          "output_type": "execute_result",
          "data": {
            "text/plain": [
              "Index(['transaction_id', 'product_id', 'customer_id', 'transaction_date',\n",
              "       'online_order', 'order_status', 'brand', 'product_line',\n",
              "       'product_class', 'product_size', 'list_price', 'standard_cost',\n",
              "       'product_first_sold_date', 'first_name', 'last_name', 'gender',\n",
              "       'past_3_years_bike_related_purchases', 'DOB', 'job_title',\n",
              "       'job_industry_category', 'wealth_segment', 'deceased_indicator',\n",
              "       'default', 'owns_car', 'tenure'],\n",
              "      dtype='object')"
            ]
          },
          "metadata": {
            "tags": []
          },
          "execution_count": 70
        }
      ]
    },
    {
      "cell_type": "code",
      "metadata": {
        "id": "OTpTXvm4BwEq",
        "colab": {
          "base_uri": "https://localhost:8080/",
          "height": 221
        },
        "outputId": "c9f6224f-95b7-428f-e2a6-2a011efcb88c"
      },
      "source": [
        "df7 = df[['customer_id','transaction_date','online_order', 'order_status','gender','list_price','standard_cost','past_3_years_bike_related_purchases','DOB','job_industry_category','wealth_segment','owns_car','tenure','brand','product_line','product_class', 'product_size']]\n",
        "df7['yob'] = pd.DatetimeIndex(df7['DOB']).year\n",
        "df7['age'] = 2019 - df7['yob']"
      ],
      "execution_count": null,
      "outputs": [
        {
          "output_type": "stream",
          "text": [
            "/usr/local/lib/python3.6/dist-packages/ipykernel_launcher.py:2: SettingWithCopyWarning: \n",
            "A value is trying to be set on a copy of a slice from a DataFrame.\n",
            "Try using .loc[row_indexer,col_indexer] = value instead\n",
            "\n",
            "See the caveats in the documentation: https://pandas.pydata.org/pandas-docs/stable/user_guide/indexing.html#returning-a-view-versus-a-copy\n",
            "  \n",
            "/usr/local/lib/python3.6/dist-packages/ipykernel_launcher.py:3: SettingWithCopyWarning: \n",
            "A value is trying to be set on a copy of a slice from a DataFrame.\n",
            "Try using .loc[row_indexer,col_indexer] = value instead\n",
            "\n",
            "See the caveats in the documentation: https://pandas.pydata.org/pandas-docs/stable/user_guide/indexing.html#returning-a-view-versus-a-copy\n",
            "  This is separate from the ipykernel package so we can avoid doing imports until\n"
          ],
          "name": "stderr"
        }
      ]
    },
    {
      "cell_type": "code",
      "metadata": {
        "id": "7FLbQZLyDUR9"
      },
      "source": [
        "df8 = df7.merge(old_add, on = 'customer_id')"
      ],
      "execution_count": null,
      "outputs": []
    },
    {
      "cell_type": "code",
      "metadata": {
        "id": "3qk4sQWWDljT",
        "colab": {
          "base_uri": "https://localhost:8080/",
          "height": 170
        },
        "outputId": "54a61627-ed32-4820-ebf7-87f9c3db7d6e"
      },
      "source": [
        "df9 = df8.merge(tx_user, left_on = 'customer_id', right_on = 'CustomerID')\n",
        "df9['profit'] = df9['list_price'] - df9['standard_cost']\n",
        "df9.columns"
      ],
      "execution_count": null,
      "outputs": [
        {
          "output_type": "execute_result",
          "data": {
            "text/plain": [
              "Index(['customer_id_x', 'transaction_date', 'online_order', 'order_status',\n",
              "       'gender', 'list_price', 'standard_cost',\n",
              "       'past_3_years_bike_related_purchases', 'DOB', 'job_industry_category',\n",
              "       'wealth_segment', 'owns_car', 'tenure', 'brand', 'product_line',\n",
              "       'product_class', 'product_size', 'yob', 'age', 'address', 'postcode',\n",
              "       'state', 'country', 'property_valuation', 'CustomerID', 'Recency',\n",
              "       'RecencyCluster', 'Frequency', 'FrequencyCluster', 'customer_id_y',\n",
              "       'Revenue', 'RevenueCluster', 'OverallScore', 'Segment', 'profit'],\n",
              "      dtype='object')"
            ]
          },
          "metadata": {
            "tags": []
          },
          "execution_count": 73
        }
      ]
    },
    {
      "cell_type": "code",
      "metadata": {
        "id": "5sdEy7LQFZw2"
      },
      "source": [
        "df10 = df9.drop(['list_price', 'standard_cost','DOB','yob','address', 'postcode','country','CustomerID','Recency', 'Frequency','Revenue'], axis = 1)"
      ],
      "execution_count": null,
      "outputs": []
    },
    {
      "cell_type": "code",
      "metadata": {
        "id": "7zys3c9fFg3P"
      },
      "source": [
        "df10['transmonth'] = pd.DatetimeIndex(df10['transaction_date']).month"
      ],
      "execution_count": null,
      "outputs": []
    },
    {
      "cell_type": "code",
      "metadata": {
        "id": "cuSO9006Gs_8",
        "colab": {
          "base_uri": "https://localhost:8080/",
          "height": 204
        },
        "outputId": "e812ff0d-e078-48f7-8cc2-c67a350820ff"
      },
      "source": [
        "#calculate revenue for each customer\n",
        "tx_revenue = df10.groupby('customer_id').list_price.sum().reset_index()\n",
        "tx_user.head()\n",
        "#merge it with our main dataframe\n",
        "tx_user = pd.merge(tx_user, tx_revenue, right_on='customer_id', left_on = 'CustomerID')\n",
        "tx_user.head()\n"
      ],
      "execution_count": null,
      "outputs": [
        {
          "output_type": "execute_result",
          "data": {
            "text/html": [
              "<div>\n",
              "<style scoped>\n",
              "    .dataframe tbody tr th:only-of-type {\n",
              "        vertical-align: middle;\n",
              "    }\n",
              "\n",
              "    .dataframe tbody tr th {\n",
              "        vertical-align: top;\n",
              "    }\n",
              "\n",
              "    .dataframe thead th {\n",
              "        text-align: right;\n",
              "    }\n",
              "</style>\n",
              "<table border=\"1\" class=\"dataframe\">\n",
              "  <thead>\n",
              "    <tr style=\"text-align: right;\">\n",
              "      <th></th>\n",
              "      <th>CustomerID</th>\n",
              "      <th>Recency</th>\n",
              "      <th>RecencyCluster</th>\n",
              "      <th>Frequency</th>\n",
              "      <th>FrequencyCluster</th>\n",
              "      <th>customer_id_x</th>\n",
              "      <th>Revenue</th>\n",
              "      <th>RevenueCluster</th>\n",
              "      <th>OverallScore</th>\n",
              "      <th>Segment</th>\n",
              "      <th>customer_id_y</th>\n",
              "      <th>list_price</th>\n",
              "    </tr>\n",
              "  </thead>\n",
              "  <tbody>\n",
              "    <tr>\n",
              "      <th>0</th>\n",
              "      <td>1</td>\n",
              "      <td>7</td>\n",
              "      <td>3</td>\n",
              "      <td>11</td>\n",
              "      <td>3</td>\n",
              "      <td>1</td>\n",
              "      <td>9084.45</td>\n",
              "      <td>2</td>\n",
              "      <td>8</td>\n",
              "      <td>High-Value</td>\n",
              "      <td>1</td>\n",
              "      <td>9084.45</td>\n",
              "    </tr>\n",
              "    <tr>\n",
              "      <th>1</th>\n",
              "      <td>25</td>\n",
              "      <td>5</td>\n",
              "      <td>3</td>\n",
              "      <td>12</td>\n",
              "      <td>3</td>\n",
              "      <td>25</td>\n",
              "      <td>9996.33</td>\n",
              "      <td>2</td>\n",
              "      <td>8</td>\n",
              "      <td>High-Value</td>\n",
              "      <td>25</td>\n",
              "      <td>9996.33</td>\n",
              "    </tr>\n",
              "    <tr>\n",
              "      <th>2</th>\n",
              "      <td>41</td>\n",
              "      <td>29</td>\n",
              "      <td>3</td>\n",
              "      <td>9</td>\n",
              "      <td>3</td>\n",
              "      <td>41</td>\n",
              "      <td>9114.15</td>\n",
              "      <td>2</td>\n",
              "      <td>8</td>\n",
              "      <td>High-Value</td>\n",
              "      <td>41</td>\n",
              "      <td>9114.15</td>\n",
              "    </tr>\n",
              "    <tr>\n",
              "      <th>3</th>\n",
              "      <td>86</td>\n",
              "      <td>0</td>\n",
              "      <td>3</td>\n",
              "      <td>9</td>\n",
              "      <td>3</td>\n",
              "      <td>86</td>\n",
              "      <td>7319.35</td>\n",
              "      <td>2</td>\n",
              "      <td>8</td>\n",
              "      <td>High-Value</td>\n",
              "      <td>86</td>\n",
              "      <td>7319.35</td>\n",
              "    </tr>\n",
              "    <tr>\n",
              "      <th>4</th>\n",
              "      <td>87</td>\n",
              "      <td>18</td>\n",
              "      <td>3</td>\n",
              "      <td>9</td>\n",
              "      <td>3</td>\n",
              "      <td>87</td>\n",
              "      <td>7994.73</td>\n",
              "      <td>2</td>\n",
              "      <td>8</td>\n",
              "      <td>High-Value</td>\n",
              "      <td>87</td>\n",
              "      <td>7994.73</td>\n",
              "    </tr>\n",
              "  </tbody>\n",
              "</table>\n",
              "</div>"
            ],
            "text/plain": [
              "   CustomerID  Recency  RecencyCluster  ...     Segment  customer_id_y  list_price\n",
              "0           1        7               3  ...  High-Value              1     9084.45\n",
              "1          25        5               3  ...  High-Value             25     9996.33\n",
              "2          41       29               3  ...  High-Value             41     9114.15\n",
              "3          86        0               3  ...  High-Value             86     7319.35\n",
              "4          87       18               3  ...  High-Value             87     7994.73\n",
              "\n",
              "[5 rows x 12 columns]"
            ]
          },
          "metadata": {
            "tags": []
          },
          "execution_count": 76
        }
      ]
    }
  ]
}